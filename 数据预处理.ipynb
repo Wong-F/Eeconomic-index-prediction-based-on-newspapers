{
 "cells": [
  {
   "cell_type": "code",
   "execution_count": 2,
   "metadata": {},
   "outputs": [],
   "source": [
    "import glob\n",
    "import pandas as pd"
   ]
  },
  {
   "cell_type": "code",
   "execution_count": 6,
   "metadata": {},
   "outputs": [],
   "source": [
    "# 获取当前文件夹下所有的 CSV 文件\n",
    "file_list = glob.glob('./FinBERT/*.csv')\n",
    "\n",
    "# 用一个空的 DataFrame 开始合并\n",
    "combined_df = pd.DataFrame()\n",
    "\n",
    "# 循环读取每个 CSV 文件并合并到 combined_df 中\n",
    "for file in file_list:\n",
    "    df = pd.read_csv(file)\n",
    "    if df.empty:\n",
    "        continue    \n",
    "    combined_df =  pd.concat([combined_df, df], ignore_index=True)"
   ]
  },
  {
   "cell_type": "code",
   "execution_count": 7,
   "metadata": {},
   "outputs": [
    {
     "name": "stdout",
     "output_type": "stream",
     "text": [
      "                                    sentiment_scores       times\n",
      "0                             [-0.15854748384033462]  2006-10-20\n",
      "1                                              [0.0]  2006-10-21\n",
      "2                         [-0.6818488136581753, 0.0]  2006-10-23\n",
      "3  [-0.4595161032676697, -0.813238263130188, 0.87...  2006-10-24\n",
      "4         [-0.7924697727853367, -0.5260841946532256]  2006-10-25\n"
     ]
    },
    {
     "data": {
      "text/html": [
       "<div>\n",
       "<style scoped>\n",
       "    .dataframe tbody tr th:only-of-type {\n",
       "        vertical-align: middle;\n",
       "    }\n",
       "\n",
       "    .dataframe tbody tr th {\n",
       "        vertical-align: top;\n",
       "    }\n",
       "\n",
       "    .dataframe thead th {\n",
       "        text-align: right;\n",
       "    }\n",
       "</style>\n",
       "<table border=\"1\" class=\"dataframe\">\n",
       "  <thead>\n",
       "    <tr style=\"text-align: right;\">\n",
       "      <th></th>\n",
       "      <th>sentiment_scores</th>\n",
       "      <th>times</th>\n",
       "    </tr>\n",
       "  </thead>\n",
       "  <tbody>\n",
       "    <tr>\n",
       "      <th>count</th>\n",
       "      <td>1277</td>\n",
       "      <td>1277</td>\n",
       "    </tr>\n",
       "    <tr>\n",
       "      <th>unique</th>\n",
       "      <td>1122</td>\n",
       "      <td>1277</td>\n",
       "    </tr>\n",
       "    <tr>\n",
       "      <th>top</th>\n",
       "      <td>[0.0]</td>\n",
       "      <td>2006-10-20</td>\n",
       "    </tr>\n",
       "    <tr>\n",
       "      <th>freq</th>\n",
       "      <td>106</td>\n",
       "      <td>1</td>\n",
       "    </tr>\n",
       "  </tbody>\n",
       "</table>\n",
       "</div>"
      ],
      "text/plain": [
       "       sentiment_scores       times\n",
       "count              1277        1277\n",
       "unique             1122        1277\n",
       "top               [0.0]  2006-10-20\n",
       "freq                106           1"
      ]
     },
     "execution_count": 7,
     "metadata": {},
     "output_type": "execute_result"
    }
   ],
   "source": [
    "data = combined_df[['sentiment_scores','times']].copy()\n",
    "print(data.head())\n",
    "data.describe()"
   ]
  },
  {
   "cell_type": "code",
   "execution_count": 8,
   "metadata": {},
   "outputs": [],
   "source": [
    "data.to_csv('datas_FinBERT.csv')"
   ]
  },
  {
   "cell_type": "code",
   "execution_count": 9,
   "metadata": {},
   "outputs": [],
   "source": [
    "# 读取月粒度标签\n",
    "All_Employees = pd.read_excel('./Ecnomical_index/Monthly All Employees, Total Nonfarm (PAYEMS).xls')\n",
    "Employment_Level = pd.read_excel('./Ecnomical_index/Monthly Employment Level.xls')\n",
    "Industrial_Production = pd.read_excel('./Ecnomical_index/Monthly Industrial Production Total Index (INDPRO).xls')\n",
    "Manufacturing_Trade_Industries_Sales = pd.read_excel('./Ecnomical_index/Monthly Real Manufacturing and Trade Industries Sales (CMRMT).xls')\n",
    "Personal_Consumption_Expenditures = pd.read_excel('./Ecnomical_index/Monthly Real Personal Consumption Expenditures (PCEC96).xls')\n",
    "personal_income = pd.read_excel('./Ecnomical_index/Monthly Real personal income excluding current transfer receipts (W875RX1).xls')"
   ]
  },
  {
   "cell_type": "code",
   "execution_count": 10,
   "metadata": {},
   "outputs": [],
   "source": [
    "# 读取季度粒度标签\n",
    "GDP_GDI = pd.read_excel('./Ecnomical_index/Quarterly Real Average of GDP and GDI (LB0000091Q020SBEA).xls')\n",
    "GDI = pd.read_excel('./Ecnomical_index/Quarterly Real gross domestic income (A261RX1Q020SBEA).xls')\n",
    "GDP = pd.read_excel(\"./Ecnomical_index/Quarterly Real Gross Domestic Product(GDP).xls\")\n"
   ]
  },
  {
   "cell_type": "code",
   "execution_count": 12,
   "metadata": {},
   "outputs": [
    {
     "data": {
      "text/html": [
       "<div>\n",
       "<style scoped>\n",
       "    .dataframe tbody tr th:only-of-type {\n",
       "        vertical-align: middle;\n",
       "    }\n",
       "\n",
       "    .dataframe tbody tr th {\n",
       "        vertical-align: top;\n",
       "    }\n",
       "\n",
       "    .dataframe thead th {\n",
       "        text-align: right;\n",
       "    }\n",
       "</style>\n",
       "<table border=\"1\" class=\"dataframe\">\n",
       "  <thead>\n",
       "    <tr style=\"text-align: right;\">\n",
       "      <th></th>\n",
       "      <th>LB0000091Q020SBEA</th>\n",
       "    </tr>\n",
       "    <tr>\n",
       "      <th>observation_date</th>\n",
       "      <th></th>\n",
       "    </tr>\n",
       "  </thead>\n",
       "  <tbody>\n",
       "    <tr>\n",
       "      <th>1947-01-01</th>\n",
       "      <td>2168.894</td>\n",
       "    </tr>\n",
       "    <tr>\n",
       "      <th>1947-04-01</th>\n",
       "      <td>2164.684</td>\n",
       "    </tr>\n",
       "    <tr>\n",
       "      <th>1947-07-01</th>\n",
       "      <td>2163.701</td>\n",
       "    </tr>\n",
       "    <tr>\n",
       "      <th>1947-10-01</th>\n",
       "      <td>2191.064</td>\n",
       "    </tr>\n",
       "    <tr>\n",
       "      <th>1948-01-01</th>\n",
       "      <td>2236.850</td>\n",
       "    </tr>\n",
       "  </tbody>\n",
       "</table>\n",
       "</div>"
      ],
      "text/plain": [
       "                  LB0000091Q020SBEA\n",
       "observation_date                   \n",
       "1947-01-01                 2168.894\n",
       "1947-04-01                 2164.684\n",
       "1947-07-01                 2163.701\n",
       "1947-10-01                 2191.064\n",
       "1948-01-01                 2236.850"
      ]
     },
     "execution_count": 12,
     "metadata": {},
     "output_type": "execute_result"
    }
   ],
   "source": [
    "# 确保日期列为 datetime 类型\n",
    "GDP_GDI['observation_date'] = pd.to_datetime(GDP_GDI['observation_date'])\n",
    "# 将 Employment_Level 的日期列设置为索引\n",
    "GDP_GDI.set_index('observation_date', inplace=True)\n",
    "GDP_GDI.head()"
   ]
  },
  {
   "cell_type": "code",
   "execution_count": 13,
   "metadata": {},
   "outputs": [
    {
     "data": {
      "text/html": [
       "<div>\n",
       "<style scoped>\n",
       "    .dataframe tbody tr th:only-of-type {\n",
       "        vertical-align: middle;\n",
       "    }\n",
       "\n",
       "    .dataframe tbody tr th {\n",
       "        vertical-align: top;\n",
       "    }\n",
       "\n",
       "    .dataframe thead th {\n",
       "        text-align: right;\n",
       "    }\n",
       "</style>\n",
       "<table border=\"1\" class=\"dataframe\">\n",
       "  <thead>\n",
       "    <tr style=\"text-align: right;\">\n",
       "      <th></th>\n",
       "      <th>GDPC1</th>\n",
       "    </tr>\n",
       "    <tr>\n",
       "      <th>observation_date</th>\n",
       "      <th></th>\n",
       "    </tr>\n",
       "  </thead>\n",
       "  <tbody>\n",
       "    <tr>\n",
       "      <th>1947-01-01</th>\n",
       "      <td>2182.681</td>\n",
       "    </tr>\n",
       "    <tr>\n",
       "      <th>1947-04-01</th>\n",
       "      <td>2176.892</td>\n",
       "    </tr>\n",
       "    <tr>\n",
       "      <th>1947-07-01</th>\n",
       "      <td>2172.432</td>\n",
       "    </tr>\n",
       "    <tr>\n",
       "      <th>1947-10-01</th>\n",
       "      <td>2206.452</td>\n",
       "    </tr>\n",
       "    <tr>\n",
       "      <th>1948-01-01</th>\n",
       "      <td>2239.682</td>\n",
       "    </tr>\n",
       "  </tbody>\n",
       "</table>\n",
       "</div>"
      ],
      "text/plain": [
       "                     GDPC1\n",
       "observation_date          \n",
       "1947-01-01        2182.681\n",
       "1947-04-01        2176.892\n",
       "1947-07-01        2172.432\n",
       "1947-10-01        2206.452\n",
       "1948-01-01        2239.682"
      ]
     },
     "execution_count": 13,
     "metadata": {},
     "output_type": "execute_result"
    }
   ],
   "source": [
    "# 确保日期列为 datetime 类型\n",
    "GDP['observation_date'] = pd.to_datetime(GDP['observation_date'])\n",
    "# 将 Employment_Level 的日期列设置为索引\n",
    "GDP.set_index('observation_date', inplace=True)\n",
    "GDP.head()"
   ]
  },
  {
   "cell_type": "code",
   "execution_count": 16,
   "metadata": {},
   "outputs": [
    {
     "data": {
      "text/html": [
       "<div>\n",
       "<style scoped>\n",
       "    .dataframe tbody tr th:only-of-type {\n",
       "        vertical-align: middle;\n",
       "    }\n",
       "\n",
       "    .dataframe tbody tr th {\n",
       "        vertical-align: top;\n",
       "    }\n",
       "\n",
       "    .dataframe thead th {\n",
       "        text-align: right;\n",
       "    }\n",
       "</style>\n",
       "<table border=\"1\" class=\"dataframe\">\n",
       "  <thead>\n",
       "    <tr style=\"text-align: right;\">\n",
       "      <th></th>\n",
       "      <th>A261RX1Q020SBEA</th>\n",
       "    </tr>\n",
       "    <tr>\n",
       "      <th>observation_date</th>\n",
       "      <th></th>\n",
       "    </tr>\n",
       "  </thead>\n",
       "  <tbody>\n",
       "    <tr>\n",
       "      <th>1947-01-01</th>\n",
       "      <td>2155.107</td>\n",
       "    </tr>\n",
       "    <tr>\n",
       "      <th>1947-04-01</th>\n",
       "      <td>2152.475</td>\n",
       "    </tr>\n",
       "    <tr>\n",
       "      <th>1947-07-01</th>\n",
       "      <td>2154.969</td>\n",
       "    </tr>\n",
       "    <tr>\n",
       "      <th>1947-10-01</th>\n",
       "      <td>2175.676</td>\n",
       "    </tr>\n",
       "    <tr>\n",
       "      <th>1948-01-01</th>\n",
       "      <td>2234.019</td>\n",
       "    </tr>\n",
       "  </tbody>\n",
       "</table>\n",
       "</div>"
      ],
      "text/plain": [
       "                  A261RX1Q020SBEA\n",
       "observation_date                 \n",
       "1947-01-01               2155.107\n",
       "1947-04-01               2152.475\n",
       "1947-07-01               2154.969\n",
       "1947-10-01               2175.676\n",
       "1948-01-01               2234.019"
      ]
     },
     "execution_count": 16,
     "metadata": {},
     "output_type": "execute_result"
    }
   ],
   "source": [
    "# 确保日期列为 datetime 类型\n",
    "GDI['observation_date'] = pd.to_datetime(GDI['observation_date'])\n",
    "# 将 Employment_Level 的日期列设置为索引\n",
    "GDI.set_index('observation_date', inplace=True)\n",
    "GDI.head()"
   ]
  },
  {
   "cell_type": "code",
   "execution_count": 17,
   "metadata": {},
   "outputs": [
    {
     "data": {
      "text/html": [
       "<div>\n",
       "<style scoped>\n",
       "    .dataframe tbody tr th:only-of-type {\n",
       "        vertical-align: middle;\n",
       "    }\n",
       "\n",
       "    .dataframe tbody tr th {\n",
       "        vertical-align: top;\n",
       "    }\n",
       "\n",
       "    .dataframe thead th {\n",
       "        text-align: right;\n",
       "    }\n",
       "</style>\n",
       "<table border=\"1\" class=\"dataframe\">\n",
       "  <thead>\n",
       "    <tr style=\"text-align: right;\">\n",
       "      <th></th>\n",
       "      <th>LB0000091Q020SBEA</th>\n",
       "      <th>A261RX1Q020SBEA</th>\n",
       "      <th>GDPC1</th>\n",
       "    </tr>\n",
       "    <tr>\n",
       "      <th>observation_date</th>\n",
       "      <th></th>\n",
       "      <th></th>\n",
       "      <th></th>\n",
       "    </tr>\n",
       "  </thead>\n",
       "  <tbody>\n",
       "    <tr>\n",
       "      <th>1947-01-01</th>\n",
       "      <td>2168.894</td>\n",
       "      <td>2155.107</td>\n",
       "      <td>2182.681</td>\n",
       "    </tr>\n",
       "    <tr>\n",
       "      <th>1947-04-01</th>\n",
       "      <td>2164.684</td>\n",
       "      <td>2152.475</td>\n",
       "      <td>2176.892</td>\n",
       "    </tr>\n",
       "    <tr>\n",
       "      <th>1947-07-01</th>\n",
       "      <td>2163.701</td>\n",
       "      <td>2154.969</td>\n",
       "      <td>2172.432</td>\n",
       "    </tr>\n",
       "    <tr>\n",
       "      <th>1947-10-01</th>\n",
       "      <td>2191.064</td>\n",
       "      <td>2175.676</td>\n",
       "      <td>2206.452</td>\n",
       "    </tr>\n",
       "    <tr>\n",
       "      <th>1948-01-01</th>\n",
       "      <td>2236.850</td>\n",
       "      <td>2234.019</td>\n",
       "      <td>2239.682</td>\n",
       "    </tr>\n",
       "  </tbody>\n",
       "</table>\n",
       "</div>"
      ],
      "text/plain": [
       "                  LB0000091Q020SBEA  A261RX1Q020SBEA     GDPC1\n",
       "observation_date                                              \n",
       "1947-01-01                 2168.894         2155.107  2182.681\n",
       "1947-04-01                 2164.684         2152.475  2176.892\n",
       "1947-07-01                 2163.701         2154.969  2172.432\n",
       "1947-10-01                 2191.064         2175.676  2206.452\n",
       "1948-01-01                 2236.850         2234.019  2239.682"
      ]
     },
     "execution_count": 17,
     "metadata": {},
     "output_type": "execute_result"
    }
   ],
   "source": [
    "combined_label = pd.concat([GDP_GDI, GDI,GDP], axis=1, join='inner')\n",
    "combined_label.head()"
   ]
  },
  {
   "cell_type": "code",
   "execution_count": 18,
   "metadata": {},
   "outputs": [],
   "source": [
    "combined_label.to_csv('./Quarterly_merged_label.csv')"
   ]
  },
  {
   "cell_type": "code",
   "execution_count": null,
   "metadata": {},
   "outputs": [],
   "source": []
  }
 ],
 "metadata": {
  "kernelspec": {
   "display_name": "FDH",
   "language": "python",
   "name": "python3"
  },
  "language_info": {
   "codemirror_mode": {
    "name": "ipython",
    "version": 3
   },
   "file_extension": ".py",
   "mimetype": "text/x-python",
   "name": "python",
   "nbconvert_exporter": "python",
   "pygments_lexer": "ipython3",
   "version": "3.10.0"
  }
 },
 "nbformat": 4,
 "nbformat_minor": 2
}
