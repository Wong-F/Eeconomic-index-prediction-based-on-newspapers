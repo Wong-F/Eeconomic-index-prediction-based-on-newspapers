{
 "cells": [
  {
   "cell_type": "markdown",
   "id": "1a48698d",
   "metadata": {},
   "source": [
    "#### Readme\n",
    "该NLP任务的主要目标为，通过纽约时报的新闻文本数据进行分析，预测未来可能发生的经济危机预警。\n",
    "\n",
    "本任务的数据集为纽约时报1920-2020 的新闻标题和文本，以及1986-2012年美国发生的经济危机的时间戳（以年为单位）\n",
    "输入为某些年份（本例是过去五年）每年的文本情感指标，输出为次年发生经济危机的概率和严重程度\n",
    "\n",
    "此任务涉及的主要方法包括：\n",
    "1. 文本情感指标提取方法：采用金融情感词典计算对一条新闻样本的情感指标，按照时间进行平均，得到月度和年度情感指标\n",
    "2. 情感与金融危机相关性评估：采用逻辑回归；考虑到经济危机往往具有一定的周期性，我们考虑多年多月份的新闻情感指标作为输入"
   ]
  },
  {
   "cell_type": "code",
   "execution_count": 1,
   "id": "7f974fbf-d359-4e47-9c9b-1c92142c7225",
   "metadata": {},
   "outputs": [
    {
     "name": "stdout",
     "output_type": "stream",
     "text": [
      "CPU times: total: 984 ms\n",
      "Wall time: 4.79 s\n"
     ]
    }
   ],
   "source": [
    "%%time\n",
    "# python = 3.10\n",
    "import pyarrow.parquet as pq # 14.0.1\n",
    "import numpy as np # 1.26.2\n",
    "import pandas as pd # 2.1.3\n",
    "import re #\n",
    "import nltk # 3.8.1\n",
    "\n",
    "from nltk import pos_tag # 词性\n",
    "from nltk.tokenize import word_tokenize # 分词\n",
    "from nltk.corpus import stopwords # 停用词\n",
    "from nltk.stem import PorterStemmer, WordNetLemmatizer # 词干化，词态统一\n",
    "from tqdm import tqdm  # 显示处理进度\n",
    "tqdm.pandas(desc=\"Processing excerpts\")"
   ]
  },
  {
   "cell_type": "code",
   "execution_count": 2,
   "id": "93f88fc0",
   "metadata": {},
   "outputs": [],
   "source": [
    "# run only once 第一次运行没下载要下载\n",
    "# nltk.download('punkt')\n",
    "# nltk.download('stopwords')\n",
    "# nltk.download('wordnet') \n",
    "# nltk.download('averaged_perceptron_tagger')\n",
    "\n",
    "lemmatizer = WordNetLemmatizer()\n",
    "stop_words = set(stopwords.words('english')) # 定义停用词"
   ]
  },
  {
   "cell_type": "markdown",
   "id": "80372ecd",
   "metadata": {},
   "source": [
    "#### 1986-2012年的经济危机（US）\n",
    "\n",
    "America(1986-2012) Romer&RomerCrisesAppendixA DerivationofNewMeasure.pdf\n",
    "\n",
    "United States\n",
    "- 1986:1 Credit disrupt.-minus\n",
    "- 1990:1 Minor crisis-reg.\n",
    "- 1990:2 Moderate crisis-minus\n",
    "- 1991:1 Minor crisis-minus\n",
    "- 1991:2 Credit disrupt.-plus\n",
    "- 1992:1 Credit disrupt.-reg.\n",
    "- 1998:2 Credit disrupt.-plus\n",
    "- 2007:1 Credit disrupt.-minus\n",
    "- 2007:2 Moderate crisis-minus\n",
    "- 2008:1 Moderate crisis-plus\n",
    "- 2008:2 Extreme crisis-reg.\n",
    "- 2009:1 Major crisis-minus\n",
    "- 2009:2 Moderate crisis-minus\n",
    "- 2010:1 Minor crisis-plus\n",
    "- 2010:2 Credit disrupt.-plus\n",
    "- 2011:2 Credit disrupt.-reg.\n",
    "- 2012:1 Credit disrupt.-minus\n",
    "- 2012:2 Credit disrupt.-minus"
   ]
  },
  {
   "cell_type": "code",
   "execution_count": 3,
   "id": "f71a94e6",
   "metadata": {
    "code_folding": []
   },
   "outputs": [
    {
     "name": "stderr",
     "output_type": "stream",
     "text": [
      "C:\\Users\\Administrator\\AppData\\Local\\Temp\\ipykernel_3960\\2301511474.py:57: FutureWarning: The behavior of DataFrame concatenation with empty or all-NA entries is deprecated. In a future version, this will no longer exclude empty or all-NA columns when determining the result dtypes. To retain the old behavior, exclude the relevant entries before the concat operation.\n",
      "  crisis_data = crisis_data._append({\n"
     ]
    },
    {
     "data": {
      "text/html": [
       "<div>\n",
       "<style scoped>\n",
       "    .dataframe tbody tr th:only-of-type {\n",
       "        vertical-align: middle;\n",
       "    }\n",
       "\n",
       "    .dataframe tbody tr th {\n",
       "        vertical-align: top;\n",
       "    }\n",
       "\n",
       "    .dataframe thead th {\n",
       "        text-align: right;\n",
       "    }\n",
       "</style>\n",
       "<table border=\"1\" class=\"dataframe\">\n",
       "  <thead>\n",
       "    <tr style=\"text-align: right;\">\n",
       "      <th></th>\n",
       "      <th>Year</th>\n",
       "      <th>Severity</th>\n",
       "      <th>Binary_Crisis</th>\n",
       "    </tr>\n",
       "  </thead>\n",
       "  <tbody>\n",
       "    <tr>\n",
       "      <th>0</th>\n",
       "      <td>1986</td>\n",
       "      <td>1.0</td>\n",
       "      <td>1</td>\n",
       "    </tr>\n",
       "    <tr>\n",
       "      <th>1</th>\n",
       "      <td>1990</td>\n",
       "      <td>5.0</td>\n",
       "      <td>1</td>\n",
       "    </tr>\n",
       "    <tr>\n",
       "      <th>2</th>\n",
       "      <td>1990</td>\n",
       "      <td>7.0</td>\n",
       "      <td>1</td>\n",
       "    </tr>\n",
       "    <tr>\n",
       "      <th>3</th>\n",
       "      <td>1991</td>\n",
       "      <td>4.0</td>\n",
       "      <td>1</td>\n",
       "    </tr>\n",
       "    <tr>\n",
       "      <th>4</th>\n",
       "      <td>1991</td>\n",
       "      <td>3.0</td>\n",
       "      <td>1</td>\n",
       "    </tr>\n",
       "    <tr>\n",
       "      <th>5</th>\n",
       "      <td>1992</td>\n",
       "      <td>2.0</td>\n",
       "      <td>1</td>\n",
       "    </tr>\n",
       "    <tr>\n",
       "      <th>6</th>\n",
       "      <td>1998</td>\n",
       "      <td>3.0</td>\n",
       "      <td>1</td>\n",
       "    </tr>\n",
       "    <tr>\n",
       "      <th>7</th>\n",
       "      <td>2007</td>\n",
       "      <td>1.0</td>\n",
       "      <td>1</td>\n",
       "    </tr>\n",
       "    <tr>\n",
       "      <th>8</th>\n",
       "      <td>2007</td>\n",
       "      <td>7.0</td>\n",
       "      <td>1</td>\n",
       "    </tr>\n",
       "    <tr>\n",
       "      <th>9</th>\n",
       "      <td>2008</td>\n",
       "      <td>9.0</td>\n",
       "      <td>1</td>\n",
       "    </tr>\n",
       "    <tr>\n",
       "      <th>10</th>\n",
       "      <td>2008</td>\n",
       "      <td>14.0</td>\n",
       "      <td>1</td>\n",
       "    </tr>\n",
       "    <tr>\n",
       "      <th>11</th>\n",
       "      <td>2009</td>\n",
       "      <td>10.0</td>\n",
       "      <td>1</td>\n",
       "    </tr>\n",
       "    <tr>\n",
       "      <th>12</th>\n",
       "      <td>2009</td>\n",
       "      <td>7.0</td>\n",
       "      <td>1</td>\n",
       "    </tr>\n",
       "    <tr>\n",
       "      <th>13</th>\n",
       "      <td>2010</td>\n",
       "      <td>6.0</td>\n",
       "      <td>1</td>\n",
       "    </tr>\n",
       "    <tr>\n",
       "      <th>14</th>\n",
       "      <td>2010</td>\n",
       "      <td>3.0</td>\n",
       "      <td>1</td>\n",
       "    </tr>\n",
       "    <tr>\n",
       "      <th>15</th>\n",
       "      <td>2011</td>\n",
       "      <td>2.0</td>\n",
       "      <td>1</td>\n",
       "    </tr>\n",
       "    <tr>\n",
       "      <th>16</th>\n",
       "      <td>2012</td>\n",
       "      <td>1.0</td>\n",
       "      <td>1</td>\n",
       "    </tr>\n",
       "    <tr>\n",
       "      <th>17</th>\n",
       "      <td>2012</td>\n",
       "      <td>1.0</td>\n",
       "      <td>1</td>\n",
       "    </tr>\n",
       "  </tbody>\n",
       "</table>\n",
       "</div>"
      ],
      "text/plain": [
       "    Year  Severity  Binary_Crisis\n",
       "0   1986       1.0              1\n",
       "1   1990       5.0              1\n",
       "2   1990       7.0              1\n",
       "3   1991       4.0              1\n",
       "4   1991       3.0              1\n",
       "5   1992       2.0              1\n",
       "6   1998       3.0              1\n",
       "7   2007       1.0              1\n",
       "8   2007       7.0              1\n",
       "9   2008       9.0              1\n",
       "10  2008      14.0              1\n",
       "11  2009      10.0              1\n",
       "12  2009       7.0              1\n",
       "13  2010       6.0              1\n",
       "14  2010       3.0              1\n",
       "15  2011       2.0              1\n",
       "16  2012       1.0              1\n",
       "17  2012       1.0              1"
      ]
     },
     "execution_count": 3,
     "metadata": {},
     "output_type": "execute_result"
    }
   ],
   "source": [
    "# 假设我们有经济危机时间戳的数据列表\n",
    "crisis_timestamps = [\n",
    "    \"1986:1 Credit disrupt.-minus\",\n",
    "    \"1990:1 Minor crisis-reg.\",\n",
    "    \"1990:2 Moderate crisis-minus\",\n",
    "    \"1991:1 Minor crisis-minus\",\n",
    "    \"1991:2 Credit disrupt.-plus\",\n",
    "    \"1992:1 Credit disrupt.-reg.\",\n",
    "    \"1998:2 Credit disrupt.-plus\",\n",
    "    \"2007:1 Credit disrupt.-minus\",\n",
    "    \"2007:2 Moderate crisis-minus\",\n",
    "    \"2008:1 Moderate crisis-plus\",\n",
    "    \"2008:2 Extreme crisis-reg.\",\n",
    "    \"2009:1 Major crisis-minus\",\n",
    "    \"2009:2 Moderate crisis-minus\",\n",
    "    \"2010:1 Minor crisis-plus\",\n",
    "    \"2010:2 Credit disrupt.-plus\",\n",
    "    \"2011:2 Credit disrupt.-reg.\",\n",
    "    \"2012:1 Credit disrupt.-minus\",\n",
    "    \"2012:2 Credit disrupt.-minus\"\n",
    "]\n",
    "\n",
    "# 定义危机的严重程度和修饰符的标量值\n",
    "crisis_severity = {\n",
    "    'Minor crisis': 4,\n",
    "    'Moderate crisis': 7,\n",
    "    'Major crisis': 10,\n",
    "    'Extreme crisis': 13,\n",
    "    'Credit disrupt.': 1  \n",
    "}\n",
    "\n",
    "# 对修饰符进行数值调整\n",
    "modifier_adjustment = {\n",
    "    'minus': 0.0,\n",
    "    'plus': 2.0,\n",
    "    'reg.': 1.0\n",
    "}\n",
    "\n",
    "# 创建一个空的DataFrame来存储结果\n",
    "crisis_data = pd.DataFrame(columns=['Year', 'Severity', 'Binary_Crisis'])\n",
    "\n",
    "# 处理每个时间戳，填充DataFrame\n",
    "for timestamp in crisis_timestamps:\n",
    "    # 解析年份和描述\n",
    "    year, _, description = timestamp.partition(':')\n",
    "    year = int(year)  # 转换年份为整数\n",
    "    # 解析危机类型和修饰符\n",
    "    for crisis_type in crisis_severity:\n",
    "        if crisis_type in description:\n",
    "            severity_value = crisis_severity[crisis_type]\n",
    "            # 找到修饰符并进行调整\n",
    "            for modifier in modifier_adjustment:\n",
    "                if modifier in description:\n",
    "                    severity_value += modifier_adjustment[modifier]\n",
    "                    break  # 找到修饰符后无需继续查找\n",
    "            # 添加到DataFrame\n",
    "            crisis_data = crisis_data._append({\n",
    "                'Year': year,\n",
    "                'Severity': severity_value,\n",
    "                'Binary_Crisis': 1  # 如果记录中有危机描述则标为1\n",
    "            }, ignore_index=True)\n",
    "            break  # 危机类型已找到，无需继续其它类型的检查\n",
    "\n",
    "# 确保年份是整数类型\n",
    "crisis_data['Year'] = crisis_data['Year'].astype(int)\n",
    "crisis_data['Binary_Crisis'] = crisis_data['Binary_Crisis'].astype(int)\n",
    "# 输出结果\n",
    "crisis_data"
   ]
  },
  {
   "cell_type": "code",
   "execution_count": 4,
   "id": "8ac63524",
   "metadata": {},
   "outputs": [
    {
     "name": "stdout",
     "output_type": "stream",
     "text": [
      "    Year  Severity  Binary_Crisis\n",
      "0   1986       1.0              1\n",
      "1   1990      12.0              1\n",
      "2   1991       7.0              1\n",
      "3   1992       2.0              1\n",
      "4   1998       3.0              1\n",
      "5   2007       8.0              1\n",
      "6   2008      23.0              1\n",
      "7   2009      17.0              1\n",
      "8   2010       9.0              1\n",
      "9   2011       2.0              1\n",
      "10  2012       2.0              1\n"
     ]
    }
   ],
   "source": [
    "# 首先，对同一年份的危机严重性分数求和\n",
    "# 对Binary_Crisis采取最大值，因为如果有危机，Binary_Crisis应该是1\n",
    "aggregated_crisis_data = crisis_data.groupby('Year').agg({'Severity': 'sum', 'Binary_Crisis': 'max'}).reset_index()\n",
    "\n",
    "# 现在，aggregated_crisis_data 将有每个年份的危机严重性分数总和，且Binary_Crisis为1（如果那年发生了危机）\n",
    "print(aggregated_crisis_data)"
   ]
  },
  {
   "cell_type": "code",
   "execution_count": 5,
   "id": "956f9283",
   "metadata": {},
   "outputs": [
    {
     "name": "stdout",
     "output_type": "stream",
     "text": [
      "    Year  Severity  Binary_Crisis\n",
      "0   1986       1.0            1.0\n",
      "1   1987       0.0            0.0\n",
      "2   1988       0.0            0.0\n",
      "3   1989       0.0            0.0\n",
      "4   1990      12.0            1.0\n",
      "5   1991       7.0            1.0\n",
      "6   1992       2.0            1.0\n",
      "7   1993       0.0            0.0\n",
      "8   1994       0.0            0.0\n",
      "9   1995       0.0            0.0\n",
      "10  1996       0.0            0.0\n",
      "11  1997       0.0            0.0\n",
      "12  1998       3.0            1.0\n",
      "13  1999       0.0            0.0\n",
      "14  2000       0.0            0.0\n",
      "15  2001       0.0            0.0\n",
      "16  2002       0.0            0.0\n",
      "17  2003       0.0            0.0\n",
      "18  2004       0.0            0.0\n",
      "19  2005       0.0            0.0\n",
      "20  2006       0.0            0.0\n",
      "21  2007       8.0            1.0\n",
      "22  2008      23.0            1.0\n",
      "23  2009      17.0            1.0\n",
      "24  2010       9.0            1.0\n",
      "25  2011       2.0            1.0\n",
      "26  2012       2.0            1.0\n"
     ]
    }
   ],
   "source": [
    "# Assume 'aggregated_crisis_data' is your original DataFrame\n",
    "# Find the range of years you want to cover\n",
    "full_year_range = range(aggregated_crisis_data['Year'].min(), aggregated_crisis_data['Year'].max() + 1)\n",
    "\n",
    "# Create a DataFrame with all years in the range\n",
    "all_years_df = pd.DataFrame(full_year_range, columns=['Year'])\n",
    "\n",
    "# Merge with the existing crisis data\n",
    "# This will keep all entries from all_years_df and match entries from crisis_data where available\n",
    "complete_crisis_data = all_years_df.merge(aggregated_crisis_data, on='Year', how='left')\n",
    "\n",
    "# Fill NaN values with 0 for 'Severity' and 'Binary_Crisis'\n",
    "complete_crisis_data['Severity'].fillna(0, inplace=True)\n",
    "complete_crisis_data['Binary_Crisis'].fillna(0, inplace=True)\n",
    "\n",
    "# The resulting DataFrame will have all years filled, with 0 for missing years\n",
    "print(complete_crisis_data)"
   ]
  },
  {
   "cell_type": "code",
   "execution_count": 6,
   "id": "740689e8",
   "metadata": {},
   "outputs": [
    {
     "name": "stdout",
     "output_type": "stream",
     "text": [
      "CPU times: total: 13.6 s\n",
      "Wall time: 27.1 s\n"
     ]
    },
    {
     "data": {
      "text/html": [
       "<div>\n",
       "<style scoped>\n",
       "    .dataframe tbody tr th:only-of-type {\n",
       "        vertical-align: middle;\n",
       "    }\n",
       "\n",
       "    .dataframe tbody tr th {\n",
       "        vertical-align: top;\n",
       "    }\n",
       "\n",
       "    .dataframe thead th {\n",
       "        text-align: right;\n",
       "    }\n",
       "</style>\n",
       "<table border=\"1\" class=\"dataframe\">\n",
       "  <thead>\n",
       "    <tr style=\"text-align: right;\">\n",
       "      <th></th>\n",
       "      <th>year</th>\n",
       "      <th>title</th>\n",
       "      <th>excerpt</th>\n",
       "    </tr>\n",
       "  </thead>\n",
       "  <tbody>\n",
       "    <tr>\n",
       "      <th>8685456</th>\n",
       "      <td>1961</td>\n",
       "      <td>M Bonallack wins Brit men's champ BONALLACK WI...</td>\n",
       "      <td>Englishman Beats Walker in Golf Final, 6 and 4</td>\n",
       "    </tr>\n",
       "    <tr>\n",
       "      <th>8685457</th>\n",
       "      <td>1961</td>\n",
       "      <td>Tryntje Ostrander Bride of Playwright</td>\n",
       "      <td></td>\n",
       "    </tr>\n",
       "    <tr>\n",
       "      <th>8685458</th>\n",
       "      <td>1961</td>\n",
       "      <td>Nacvalac cancels planned trip to Canada CZECH ...</td>\n",
       "      <td>Aide at U.N. Involved in Spy Case Avoids Leavi...</td>\n",
       "    </tr>\n",
       "    <tr>\n",
       "      <th>8685459</th>\n",
       "      <td>1961</td>\n",
       "      <td>Cartoons Test for Disarmament</td>\n",
       "      <td>Talks in U.S. This Week May Reveal Soviet Firm...</td>\n",
       "    </tr>\n",
       "    <tr>\n",
       "      <th>8685460</th>\n",
       "      <td>1961</td>\n",
       "      <td>Carrie Tanate Bride Here</td>\n",
       "      <td></td>\n",
       "    </tr>\n",
       "  </tbody>\n",
       "</table>\n",
       "</div>"
      ],
      "text/plain": [
       "         year                                              title  \\\n",
       "8685456  1961  M Bonallack wins Brit men's champ BONALLACK WI...   \n",
       "8685457  1961              Tryntje Ostrander Bride of Playwright   \n",
       "8685458  1961  Nacvalac cancels planned trip to Canada CZECH ...   \n",
       "8685459  1961                      Cartoons Test for Disarmament   \n",
       "8685460  1961                           Carrie Tanate Bride Here   \n",
       "\n",
       "                                                   excerpt  \n",
       "8685456     Englishman Beats Walker in Golf Final, 6 and 4  \n",
       "8685457                                                     \n",
       "8685458  Aide at U.N. Involved in Spy Case Avoids Leavi...  \n",
       "8685459  Talks in U.S. This Week May Reveal Soviet Firm...  \n",
       "8685460                                                     "
      ]
     },
     "execution_count": 6,
     "metadata": {},
     "output_type": "execute_result"
    }
   ],
   "source": [
    "%%time\n",
    "# 加载数据\n",
    "data = pd.read_parquet('nyt_data_part2.parquet')\n",
    "data.head()"
   ]
  },
  {
   "cell_type": "code",
   "execution_count": 7,
   "id": "5e98c265",
   "metadata": {},
   "outputs": [],
   "source": [
    "# 假设 'data' 是已经加载包含所有年份新闻的 DataFrame\n",
    "# 过滤出1982年及以后的数据\n",
    "data_filtered = data[data['year'] >= 1982]\n",
    "data_filtered = data_filtered[data_filtered['year']<=2012]"
   ]
  },
  {
   "cell_type": "code",
   "execution_count": 8,
   "id": "03cc3f5a-ff74-43f8-9125-9d8cb43a9e66",
   "metadata": {},
   "outputs": [
    {
     "data": {
      "text/html": [
       "<div>\n",
       "<style scoped>\n",
       "    .dataframe tbody tr th:only-of-type {\n",
       "        vertical-align: middle;\n",
       "    }\n",
       "\n",
       "    .dataframe tbody tr th {\n",
       "        vertical-align: top;\n",
       "    }\n",
       "\n",
       "    .dataframe thead th {\n",
       "        text-align: right;\n",
       "    }\n",
       "</style>\n",
       "<table border=\"1\" class=\"dataframe\">\n",
       "  <thead>\n",
       "    <tr style=\"text-align: right;\">\n",
       "      <th></th>\n",
       "      <th>year</th>\n",
       "      <th>title</th>\n",
       "      <th>excerpt</th>\n",
       "    </tr>\n",
       "  </thead>\n",
       "  <tbody>\n",
       "    <tr>\n",
       "      <th>11689540</th>\n",
       "      <td>1982</td>\n",
       "      <td>It was supposed to be a nice winter-vacation t...</td>\n",
       "      <td></td>\n",
       "    </tr>\n",
       "    <tr>\n",
       "      <th>11689541</th>\n",
       "      <td>1982</td>\n",
       "      <td>A new breed of jumping horse is being develope...</td>\n",
       "      <td></td>\n",
       "    </tr>\n",
       "    <tr>\n",
       "      <th>11689542</th>\n",
       "      <td>1982</td>\n",
       "      <td>WESTCHESTER residents who approved formation o...</td>\n",
       "      <td>we have to identify power sources and get more...</td>\n",
       "    </tr>\n",
       "    <tr>\n",
       "      <th>11689543</th>\n",
       "      <td>1982</td>\n",
       "      <td>''DURING the 5,000 years of our history, dance...</td>\n",
       "      <td></td>\n",
       "    </tr>\n",
       "    <tr>\n",
       "      <th>11689544</th>\n",
       "      <td>1982</td>\n",
       "      <td>The NCNB Corporation said it had received regu...</td>\n",
       "      <td></td>\n",
       "    </tr>\n",
       "  </tbody>\n",
       "</table>\n",
       "</div>"
      ],
      "text/plain": [
       "          year                                              title  \\\n",
       "11689540  1982  It was supposed to be a nice winter-vacation t...   \n",
       "11689541  1982  A new breed of jumping horse is being develope...   \n",
       "11689542  1982  WESTCHESTER residents who approved formation o...   \n",
       "11689543  1982  ''DURING the 5,000 years of our history, dance...   \n",
       "11689544  1982  The NCNB Corporation said it had received regu...   \n",
       "\n",
       "                                                    excerpt  \n",
       "11689540                                                     \n",
       "11689541                                                     \n",
       "11689542  we have to identify power sources and get more...  \n",
       "11689543                                                     \n",
       "11689544                                                     "
      ]
     },
     "execution_count": 8,
     "metadata": {},
     "output_type": "execute_result"
    }
   ],
   "source": [
    "# 显示过滤后的数据头\n",
    "data_filtered.head()"
   ]
  },
  {
   "cell_type": "code",
   "execution_count": 120,
   "id": "cc109615",
   "metadata": {},
   "outputs": [
    {
     "name": "stdout",
     "output_type": "stream",
     "text": [
      "Sample size: 8726\n",
      "<class 'pandas.core.frame.DataFrame'>\n",
      "RangeIndex: 8726 entries, 0 to 8725\n",
      "Data columns (total 3 columns):\n",
      " #   Column   Non-Null Count  Dtype \n",
      "---  ------   --------------  ----- \n",
      " 0   year     8726 non-null   int64 \n",
      " 1   title    8726 non-null   object\n",
      " 2   excerpt  8726 non-null   object\n",
      "dtypes: int64(1), object(2)\n",
      "memory usage: 204.6+ KB\n",
      "CPU times: total: 688 ms\n",
      "Wall time: 741 ms\n"
     ]
    }
   ],
   "source": [
    "%%time\n",
    "# 取数据集的frac\n",
    "data_sample = data_filtered.sample(frac=0.001, random_state=42)\n",
    "# 选择year等于2008且excerpt不是空字符串的行\n",
    "data_2008_non_empty = data[(data['year'] == 2008) & (data['excerpt'] != '')]\n",
    "# 将这些行添加到data_sample DataFrame中\n",
    "data_sample = data_sample._append(data_2008_non_empty, ignore_index=True)\n",
    "\n",
    "# 查看数据集的样本大小\n",
    "print(\"Sample size:\", len(data_sample))\n",
    "\n",
    "# 查看数据的前几行\n",
    "\n",
    "# 查看数据的基本信息，包括列名、数据类型、非空值数量\n",
    "data_sample.info()\n",
    "# print(data_sample.head())"
   ]
  },
  {
   "cell_type": "code",
   "execution_count": 121,
   "id": "6440d187",
   "metadata": {
    "code_folding": [
     2,
     10,
     15,
     25,
     31,
     37
    ]
   },
   "outputs": [
    {
     "name": "stdout",
     "output_type": "stream",
     "text": [
      "CPU times: total: 0 ns\n",
      "Wall time: 0 ns\n"
     ]
    }
   ],
   "source": [
    "%%time\n",
    "# 清洗文本数据\n",
    "def clean_text(text):\n",
    "    # 去除特殊字符和标点符号\n",
    "    text = re.sub(r'[^A-Za-z0-9\\s]', '', text)\n",
    "    # 小写化文本\n",
    "    text = text.lower()\n",
    "    return text\n",
    "\n",
    "# 分词\n",
    "def tokenize(text):\n",
    "    words = nltk.word_tokenize(text)\n",
    "    return words\n",
    "\n",
    "# 分词和词形还原\n",
    "def tokenize_and_lemmatize(text):\n",
    "    tqdm.pandas(desc=\"Tokenizing\")\n",
    "    # 分词\n",
    "    words = nltk.word_tokenize(text)\n",
    "    # 词形还原\n",
    "    lemmatizer = WordNetLemmatizer()\n",
    "    lemmatized_words = [lemmatizer.lemmatize(word) for word in words]\n",
    "    return lemmatized_words\n",
    "\n",
    "# 去停用词\n",
    "def remove_stopwords(tokens):\n",
    "    stop_words = set(stopwords.words('english'))\n",
    "    filtered_tokens = [word for word in tokens if word not in stop_words]\n",
    "    return filtered_tokens\n",
    "\n",
    "# 词干化\n",
    "def stem_tokens(tokens):\n",
    "    stemmer = PorterStemmer()\n",
    "    stemmed_tokens = [stemmer.stem(word) for word in tokens]  # 添加进度条\n",
    "    return stemmed_tokens\n",
    "\n",
    "# NLTK词性标注函数\n",
    "def nltk_tagger(text):\n",
    "    # 分词\n",
    "    tokens = word_tokenize(text)\n",
    "    # 词性标注\n",
    "    tagged_tokens = pos_tag(tokens)\n",
    "    return tagged_tokens"
   ]
  },
  {
   "cell_type": "code",
   "execution_count": 122,
   "id": "bee4948c",
   "metadata": {
    "code_folding": [
     2
    ]
   },
   "outputs": [
    {
     "name": "stdout",
     "output_type": "stream",
     "text": [
      "CPU times: total: 0 ns\n",
      "Wall time: 0 ns\n"
     ]
    }
   ],
   "source": [
    "%%time\n",
    "# 一次性解决四个任务，优化代码，减少循环次数。建议apply\n",
    "def preprocess_text(text):\n",
    "    # 基本处理\n",
    "    cleaned_text = clean_text(text)\n",
    "    # 分词和词形还原\n",
    "    lemmatized_tokens = tokenize_and_lemmatize(cleaned_text)\n",
    "    # 去停用词\n",
    "    non_stop_words = remove_stopwords(lemmatized_tokens)\n",
    "    # 词干化\n",
    "    stemmed_tokens = stem_tokens(non_stop_words)\n",
    "    return stemmed_tokens"
   ]
  },
  {
   "cell_type": "code",
   "execution_count": 123,
   "id": "acf3f7be",
   "metadata": {},
   "outputs": [
    {
     "name": "stderr",
     "output_type": "stream",
     "text": [
      "Tokenizing: 100%|██████████| 8726/8726 [00:19<00:00, 458.40it/s]"
     ]
    },
    {
     "name": "stdout",
     "output_type": "stream",
     "text": [
      "CPU times: total: 18.1 s\n",
      "Wall time: 19 s\n"
     ]
    },
    {
     "name": "stderr",
     "output_type": "stream",
     "text": [
      "\n"
     ]
    }
   ],
   "source": [
    "%%time\n",
    "# 先将词性标注应用到数据集的每个'excerpt'\n",
    "data_sample['tagged_excerpt'] = data_sample['excerpt'].progress_apply(nltk_tagger)"
   ]
  },
  {
   "cell_type": "code",
   "execution_count": 124,
   "id": "9fe99211",
   "metadata": {},
   "outputs": [
    {
     "name": "stderr",
     "output_type": "stream",
     "text": [
      "Tokenizing: 100%|██████████| 8726/8726 [00:12<00:00, 725.62it/s]"
     ]
    },
    {
     "name": "stdout",
     "output_type": "stream",
     "text": [
      "CPU times: total: 11.4 s\n",
      "Wall time: 12 s\n"
     ]
    },
    {
     "name": "stderr",
     "output_type": "stream",
     "text": [
      "\n"
     ]
    }
   ],
   "source": [
    "%%time\n",
    "# 使用 progress_apply 代替 apply\n",
    "data_sample['cleaned_excerpt'] = data_sample['excerpt'].progress_apply(preprocess_text)"
   ]
  },
  {
   "cell_type": "code",
   "execution_count": 125,
   "id": "1d2b0177",
   "metadata": {},
   "outputs": [],
   "source": [
    "# %%time\n",
    "# # 应用清洗函数\n",
    "# data_sample['cleaned_excerpt'] = data_sample['excerpt'].apply(clean_text)\n",
    "\n",
    "# %%time\n",
    "# # 应用分词函数\n",
    "# tqdm.pandas(desc=\"Tokenizing\")# 使用tqdm来显示分词进度\n",
    "# data_sample['tokenized_excerpt'] = data_sample['cleaned_excerpt'].progress_apply(tokenize_and_lemmatize)\n",
    "\n",
    "# %%time\n",
    "# # 去停用词\n",
    "# data_sample['filtered_excerpt'] = data_sample['tokenized_excerpt'].apply(remove_stopwords)\n",
    "\n",
    "# %%time\n",
    "# # 词干化\n",
    "# data_sample['stemmed_excerpt'] = data_sample['filtered_excerpt'].apply(stem_tokens)"
   ]
  },
  {
   "cell_type": "code",
   "execution_count": 126,
   "id": "2cce8571",
   "metadata": {},
   "outputs": [
    {
     "name": "stdout",
     "output_type": "stream",
     "text": [
      "                                             excerpt  \\\n",
      "0  says there is still concern about weak job gro...   \n",
      "\n",
      "                                     cleaned_excerpt  \\\n",
      "0  [say, still, concern, weak, job, growth, say, ...   \n",
      "\n",
      "                                      tagged_excerpt  \n",
      "0  [(says, VBZ), (there, EX), (is, VBZ), (still, ...  \n",
      "CPU times: total: 15.6 ms\n",
      "Wall time: 14 ms\n"
     ]
    }
   ],
   "source": [
    "%%time\n",
    "# 查看处理后的数据\n",
    "print(data_sample[['excerpt', 'cleaned_excerpt','tagged_excerpt']].head(1))"
   ]
  },
  {
   "cell_type": "code",
   "execution_count": 16,
   "id": "d0324c17",
   "metadata": {},
   "outputs": [
    {
     "name": "stdout",
     "output_type": "stream",
     "text": [
      "CPU times: total: 19.1 s\n",
      "Wall time: 20.2 s\n"
     ]
    }
   ],
   "source": [
    "%%time\n",
    "# 加载Loughran-McDonald Master Dictionary\n",
    "dictionary_path = 'Loughran-McDonald_MasterDictionary_1993-2021.xlsx'\n",
    "lm_dict = pd.read_excel(dictionary_path)"
   ]
  },
  {
   "cell_type": "code",
   "execution_count": null,
   "id": "72a4c38a-edfe-4600-971d-3a0808b5a429",
   "metadata": {},
   "outputs": [],
   "source": [
    "%%time\n",
    "# 将词典索引小写化\n",
    "lm_dict['Word'] = lm_dict['Word'].str.lower()\n",
    "lm_dict.set_index('Word', inplace=True)"
   ]
  },
  {
   "cell_type": "code",
   "execution_count": null,
   "id": "81f28085",
   "metadata": {},
   "outputs": [
    {
     "name": "stderr",
     "output_type": "stream",
     "text": [
      "Tokenizing:  19%|█▊        | 1626/8726 [03:24<08:05, 14.63it/s] "
     ]
    }
   ],
   "source": [
    "# def sentiment_score(tagged_tokens, lm_dict):\n",
    "#     positive_count = 0\n",
    "#     negative_count = 0\n",
    "#     for word, tag in tagged_tokens:\n",
    "#         key = word.lower()  # 使用小写的词汇进行查找\n",
    "#         if key in lm_dict.index:\n",
    "#             if lm_dict.loc[key, 'Positive'] > 0:\n",
    "#                 positive_count += 1\n",
    "#             elif lm_dict.loc[key, 'Negative'] > 0:\n",
    "#                 negative_count += 1\n",
    "#     total_score = positive_count - negative_count\n",
    "#     return total_score, positive_count, negative_count\n",
    "\n",
    "def sentiment_score(tagged_tokens, lm_dict):\n",
    "    # 初始化各情感特征的计数\n",
    "    positive_count = 0\n",
    "    negative_count = 0\n",
    "    uncertainty_count = 0\n",
    "    litigious_count = 0\n",
    "    strong_modal_count = 0\n",
    "    weak_modal_count = 0\n",
    "    constraining_count = 0\n",
    "\n",
    "    # 遍历分词后的词汇及其词性标注\n",
    "    for word, tag in tagged_tokens:\n",
    "        key = word.lower()  # 使用小写的词汇进行查找\n",
    "        if key in lm_dict.index:\n",
    "            # 对每个情感特征计数\n",
    "            positive_count += int(lm_dict.loc[key, 'Positive'] > 0)\n",
    "            negative_count += int(lm_dict.loc[key, 'Negative'] > 0)\n",
    "            uncertainty_count += int(lm_dict.loc[key, 'Uncertainty'] > 0)\n",
    "            litigious_count += int(lm_dict.loc[key, 'Litigious'] > 0)\n",
    "            strong_modal_count += int(lm_dict.loc[key, 'Strong_Modal'] > 0)\n",
    "            weak_modal_count += int(lm_dict.loc[key, 'Weak_Modal'] > 0)\n",
    "            constraining_count += int(lm_dict.loc[key, 'Constraining'] > 0)\n",
    "\n",
    "    # 计算总的情感得分\n",
    "    total_score = positive_count - negative_count\n",
    "\n",
    "    # 返回包含所有计数和总得分的字典\n",
    "    return total_score,positive_count,negative_count,uncertainty_count,litigious_count,strong_modal_count,weak_modal_count,constraining_count\n",
    "    \n",
    "\n",
    "\n",
    "# 应用函数并将结果分解为若干个列\n",
    "data_sample[['sentiment_score', 'positive_word_count', 'negative_word_count','uncertainty_count','litigious_count','strong_modal_count','weak_modal_count','constraining_count']] = data_sample['tagged_excerpt'].progress_apply(\n",
    "    lambda x: pd.Series(sentiment_score(x, lm_dict))\n",
    ")\n",
    "\n",
    "# 查看结果\n",
    "print(data_sample.head())"
   ]
  },
  {
   "cell_type": "code",
   "execution_count": 135,
   "id": "27a1e025-6e7a-4d9b-a47b-cc9b93285b66",
   "metadata": {},
   "outputs": [],
   "source": [
    "# 执行到这里可以保存下来数据的情感得分了\n",
    "data_sample.to_csv('./data.csv', index=False)"
   ]
  },
  {
   "cell_type": "code",
   "execution_count": 136,
   "id": "a17a53d8",
   "metadata": {},
   "outputs": [],
   "source": [
    "# # 金融词频（总词频）统计，\n",
    "# from collections import Counter\n",
    "# # 提取词典中的所有词汇\n",
    "# all_words = lm_dict.index.tolist()\n",
    "# # 初始化一个词频统计字典\n",
    "# all_words_count = Counter()"
   ]
  },
  {
   "cell_type": "code",
   "execution_count": 137,
   "id": "25bcf554",
   "metadata": {},
   "outputs": [],
   "source": [
    "# %%time\n",
    "# # 遍历数据集中的文本\n",
    "# for excerpt in data_sample['cleaned_excerpt']:\n",
    "#     # 假设cleaned_excerpt已经是分词后的结果\n",
    "#     words = excerpt  # 如果cleaned_excerpt不是分词后的列表，需要先分词\n",
    "#     # 更新统计字典\n",
    "#     all_words_count.update(w for w in words if w in all_words)\n",
    "\n",
    "# # 输出最常见的词及其频率\n",
    "# print(all_words_count.most_common())"
   ]
  },
  {
   "cell_type": "code",
   "execution_count": 138,
   "id": "b6a5a011",
   "metadata": {},
   "outputs": [
    {
     "name": "stdout",
     "output_type": "stream",
     "text": [
      "CPU times: total: 188 ms\n",
      "Wall time: 183 ms\n"
     ]
    }
   ],
   "source": [
    "%%time\n",
    "# 定义过滤器函数，排除0值\n",
    "def non_zero_max(series):\n",
    "    non_zero_series = series[series != 0]\n",
    "    return non_zero_series.max() if not non_zero_series.empty else None\n",
    "\n",
    "def non_zero_quantile75(series):\n",
    "    non_zero_series = series[series != 0]\n",
    "    return non_zero_series.quantile(0.75) if not non_zero_series.empty else None\n",
    "\n",
    "def non_zero_mean(series):\n",
    "    non_zero_series = series[series != 0]\n",
    "    return non_zero_series.mean() if not non_zero_series.empty else None\n",
    "\n",
    "def non_zero_median(series):\n",
    "    non_zero_series = series[series != 0]\n",
    "    return non_zero_series.median() if not non_zero_series.empty else None\n",
    "\n",
    "def non_zero_quantile25(series):\n",
    "    non_zero_series = series[series != 0]\n",
    "    return non_zero_series.quantile(0.25) if not non_zero_series.empty else None\n",
    "\n",
    "def non_zero_min(series):\n",
    "    non_zero_series = series[series != 0]\n",
    "    return non_zero_series.min() if not non_zero_series.empty else None\n",
    "\n",
    "# 对非零值进行统计(只统计情感得分非0的样本)\n",
    "stats_per_year = data_sample[data_sample['sentiment_score'] != 0].groupby('year').agg({\n",
    "    'sentiment_score'    : ['count',non_zero_max,non_zero_quantile75,non_zero_mean,non_zero_median,non_zero_quantile25,non_zero_min],\n",
    "    'positive_word_count': [non_zero_max,non_zero_quantile75,non_zero_mean,non_zero_median,non_zero_quantile25,non_zero_min],\n",
    "    'negative_word_count': [non_zero_max,non_zero_quantile75,non_zero_mean,non_zero_median,non_zero_quantile25,non_zero_min],\n",
    "})\n",
    "\n",
    "# 重命名列以反映统计量\n",
    "stats_per_year.columns = ['_'.join(col).strip() for col in stats_per_year.columns.values]\n",
    "\n",
    "# 重置索引以将年份列转换回普通列\n",
    "stats_per_year.reset_index(inplace=True)"
   ]
  },
  {
   "cell_type": "code",
   "execution_count": 151,
   "id": "65d1174d",
   "metadata": {},
   "outputs": [],
   "source": [
    "def create_features_labels(data, stats_data, n_years):\n",
    "    # 初始化特征和标签列表\n",
    "    features = []\n",
    "    labels = []\n",
    "    prediction_years = []  # 初始化一个列表来保存预测的年份\n",
    "\n",
    "    # 截取相应年份的统计数据，从1985-2011\n",
    "    stats_data_filtered = stats_data[(stats_data['year'] >= 1985) & (stats_data['year'] < 2012)]\n",
    "    \n",
    "    # 循环遍历stats_data_filtered中的每一年，从1到26，i行对应的年份是1986\n",
    "    for i in range(n_years, len(stats_data_filtered)):\n",
    "        # 获取前N年的统计数据作为特征\n",
    "        year_features = stats_data_filtered.iloc[i-n_years:i].drop('year', axis=1)\n",
    "        feature_values = year_features.values.flatten().tolist()\n",
    "        # 构建特征列名，包括统计量名称和相对年份\n",
    "        feature_names = [f\"{col}_year-{offset}\" for offset in range(n_years, 0, -1) for col in year_features.columns]\n",
    "        \n",
    "        # 获取与特征相对应的下一年的危机数据作为标签\n",
    "        prediction_year = stats_data_filtered.iloc[i]['year']\n",
    "        next_year_crisis = data[data['Year'] == prediction_year]\n",
    "        \n",
    "        # 确保下一年的数据存在\n",
    "        if not next_year_crisis.empty:\n",
    "            # 添加预测年份到列表\n",
    "            prediction_years.append(prediction_year)\n",
    "            labels.append(next_year_crisis[['Severity', 'Binary_Crisis']].iloc[0].tolist())\n",
    "        else:\n",
    "            continue  # 如果没有下一年的数据，跳过这个循环\n",
    "        \n",
    "        # 将特征添加到列表\n",
    "        features.append(dict(zip(feature_names, feature_values)))\n",
    "\n",
    "    # 将列表转换为DataFrame\n",
    "    features_df = pd.DataFrame(features)\n",
    "    # 添加预测年份列\n",
    "    features_df['Prediction_Year'] = prediction_years\n",
    "    \n",
    "    labels_df = pd.DataFrame(labels, columns=['Severity', 'Binary_Crisis'])\n",
    "    # 添加预测年份列\n",
    "    labels_df['Prediction_Year'] = prediction_years\n",
    "\n",
    "    return features_df, labels_df"
   ]
  },
  {
   "cell_type": "code",
   "execution_count": 154,
   "id": "28b0a0d3-5e25-4b2f-b9cf-9afe7ec81cea",
   "metadata": {},
   "outputs": [
    {
     "name": "stdout",
     "output_type": "stream",
     "text": [
      "   sentiment_score_count_year-1  sentiment_score_non_zero_max_year-1  \\\n",
      "0                           4.0                                 -1.0   \n",
      "1                           2.0                                  1.0   \n",
      "2                           3.0                                  1.0   \n",
      "3                           3.0                                 -1.0   \n",
      "4                           7.0                                  1.0   \n",
      "\n",
      "   sentiment_score_non_zero_quantile75_year-1  \\\n",
      "0                                        -1.0   \n",
      "1                                         0.5   \n",
      "2                                         0.0   \n",
      "3                                        -1.0   \n",
      "4                                        -1.0   \n",
      "\n",
      "   sentiment_score_non_zero_mean_year-1  \\\n",
      "0                             -1.000000   \n",
      "1                              0.000000   \n",
      "2                             -0.666667   \n",
      "3                             -1.000000   \n",
      "4                             -0.857143   \n",
      "\n",
      "   sentiment_score_non_zero_median_year-1  \\\n",
      "0                                    -1.0   \n",
      "1                                     0.0   \n",
      "2                                    -1.0   \n",
      "3                                    -1.0   \n",
      "4                                    -1.0   \n",
      "\n",
      "   sentiment_score_non_zero_quantile25_year-1  \\\n",
      "0                                        -1.0   \n",
      "1                                        -0.5   \n",
      "2                                        -1.5   \n",
      "3                                        -1.0   \n",
      "4                                        -1.0   \n",
      "\n",
      "   sentiment_score_non_zero_min_year-1  \\\n",
      "0                                 -1.0   \n",
      "1                                 -1.0   \n",
      "2                                 -2.0   \n",
      "3                                 -1.0   \n",
      "4                                 -2.0   \n",
      "\n",
      "   positive_word_count_non_zero_max_year-1  \\\n",
      "0                                      1.0   \n",
      "1                                      1.0   \n",
      "2                                      1.0   \n",
      "3                                      0.0   \n",
      "4                                      1.0   \n",
      "\n",
      "   positive_word_count_non_zero_quantile75_year-1  \\\n",
      "0                                             1.0   \n",
      "1                                             1.0   \n",
      "2                                             1.0   \n",
      "3                                             0.0   \n",
      "4                                             1.0   \n",
      "\n",
      "   positive_word_count_non_zero_mean_year-1  \\\n",
      "0                                       1.0   \n",
      "1                                       1.0   \n",
      "2                                       1.0   \n",
      "3                                       0.0   \n",
      "4                                       1.0   \n",
      "\n",
      "   positive_word_count_non_zero_median_year-1  \\\n",
      "0                                         1.0   \n",
      "1                                         1.0   \n",
      "2                                         1.0   \n",
      "3                                         0.0   \n",
      "4                                         1.0   \n",
      "\n",
      "   positive_word_count_non_zero_quantile25_year-1  \\\n",
      "0                                             1.0   \n",
      "1                                             1.0   \n",
      "2                                             1.0   \n",
      "3                                             0.0   \n",
      "4                                             1.0   \n",
      "\n",
      "   positive_word_count_non_zero_min_year-1  \\\n",
      "0                                      1.0   \n",
      "1                                      1.0   \n",
      "2                                      1.0   \n",
      "3                                      0.0   \n",
      "4                                      1.0   \n",
      "\n",
      "   negative_word_count_non_zero_max_year-1  \\\n",
      "0                                      2.0   \n",
      "1                                      1.0   \n",
      "2                                      2.0   \n",
      "3                                      1.0   \n",
      "4                                      2.0   \n",
      "\n",
      "   negative_word_count_non_zero_quantile75_year-1  \\\n",
      "0                                            1.25   \n",
      "1                                            1.00   \n",
      "2                                            1.75   \n",
      "3                                            1.00   \n",
      "4                                            1.00   \n",
      "\n",
      "   negative_word_count_non_zero_mean_year-1  \\\n",
      "0                                  1.250000   \n",
      "1                                  1.000000   \n",
      "2                                  1.500000   \n",
      "3                                  1.000000   \n",
      "4                                  1.166667   \n",
      "\n",
      "   negative_word_count_non_zero_median_year-1  \\\n",
      "0                                         1.0   \n",
      "1                                         1.0   \n",
      "2                                         1.5   \n",
      "3                                         1.0   \n",
      "4                                         1.0   \n",
      "\n",
      "   negative_word_count_non_zero_quantile25_year-1  \\\n",
      "0                                            1.00   \n",
      "1                                            1.00   \n",
      "2                                            1.25   \n",
      "3                                            1.00   \n",
      "4                                            1.00   \n",
      "\n",
      "   negative_word_count_non_zero_min_year-1  Prediction_Year  \n",
      "0                                      1.0           1986.0  \n",
      "1                                      1.0           1987.0  \n",
      "2                                      1.0           1988.0  \n",
      "3                                      1.0           1989.0  \n",
      "4                                      1.0           1990.0  \n",
      "   Severity  Binary_Crisis  Prediction_Year\n",
      "0       1.0            1.0           1986.0\n",
      "1       0.0            0.0           1987.0\n",
      "2       0.0            0.0           1988.0\n",
      "3       0.0            0.0           1989.0\n",
      "4      12.0            1.0           1990.0\n"
     ]
    }
   ],
   "source": [
    "# 使用前一年的数据作为特征来预测下一年\n",
    "N = 1\n",
    "features, labels = create_features_labels(complete_crisis_data, stats_per_year, N)\n",
    "# 使用0填充NaN值\n",
    "features = features.fillna(0)\n",
    "print(features.head())\n",
    "print(labels.head())"
   ]
  },
  {
   "cell_type": "code",
   "execution_count": 152,
   "id": "54b4941b-8b84-4359-9e24-421fc5e37a47",
   "metadata": {},
   "outputs": [
    {
     "name": "stdout",
     "output_type": "stream",
     "text": [
      "                                                Severity  Binary_Crisis\n",
      "sentiment_score_count_year-1                    0.452132   2.318392e-01\n",
      "sentiment_score_non_zero_max_year-1            -0.030845  -1.210117e-01\n",
      "sentiment_score_non_zero_quantile75_year-1     -0.372767  -1.881068e-01\n",
      "sentiment_score_non_zero_mean_year-1           -0.232930  -1.782367e-01\n",
      "sentiment_score_non_zero_median_year-1         -0.295186   5.514110e-02\n",
      "sentiment_score_non_zero_quantile25_year-1     -0.073632   1.039549e-01\n",
      "sentiment_score_non_zero_min_year-1            -0.137521  -1.739516e-01\n",
      "positive_word_count_non_zero_max_year-1        -0.078785  -1.273326e-01\n",
      "positive_word_count_non_zero_quantile75_year-1  0.020105   2.165639e-01\n",
      "positive_word_count_non_zero_mean_year-1       -0.142021  -3.865893e-02\n",
      "positive_word_count_non_zero_median_year-1     -0.347248  -5.179192e-02\n",
      "positive_word_count_non_zero_quantile25_year-1 -0.347248  -5.179192e-02\n",
      "positive_word_count_non_zero_min_year-1        -0.347248  -5.179192e-02\n",
      "negative_word_count_non_zero_max_year-1        -0.018571  -2.079276e-02\n",
      "negative_word_count_non_zero_quantile75_year-1  0.107202   1.950831e-01\n",
      "negative_word_count_non_zero_mean_year-1        0.087461   1.518139e-01\n",
      "negative_word_count_non_zero_median_year-1      0.123252   1.585039e-01\n",
      "negative_word_count_non_zero_quantile25_year-1  0.408529  -7.682717e-02\n",
      "negative_word_count_non_zero_min_year-1         0.494257  -3.164623e-17\n",
      "Prediction_Year                                 0.358590   1.791957e-01\n",
      "Severity                                        1.000000   6.935875e-01\n"
     ]
    }
   ],
   "source": [
    "# 合并特征和标签为一个DataFrame\n",
    "combined_data = pd.concat([features, labels], axis=1)\n",
    "\n",
    "# 计算相关性\n",
    "correlation_matrix = combined_data.corr()\n",
    "\n",
    "# 提取与标签的相关性\n",
    "correlation_with_labels = correlation_matrix[['Severity', 'Binary_Crisis']].iloc[:-2]\n",
    "\n",
    "# 显示相关性结果\n",
    "print(correlation_with_labels)"
   ]
  },
  {
   "cell_type": "code",
   "execution_count": null,
   "id": "bf7d52bc-4ec5-4ac0-8736-9e9caa64c66a",
   "metadata": {},
   "outputs": [],
   "source": []
  },
  {
   "cell_type": "code",
   "execution_count": 141,
   "id": "bda8bac9",
   "metadata": {},
   "outputs": [
    {
     "name": "stdout",
     "output_type": "stream",
     "text": [
      "Accuracy: 1.0\n",
      "Classification Report:\n",
      "              precision    recall  f1-score   support\n",
      "\n",
      "         0.0       1.00      1.00      1.00         4\n",
      "         1.0       1.00      1.00      1.00         2\n",
      "\n",
      "    accuracy                           1.00         6\n",
      "   macro avg       1.00      1.00      1.00         6\n",
      "weighted avg       1.00      1.00      1.00         6\n",
      "\n"
     ]
    },
    {
     "name": "stderr",
     "output_type": "stream",
     "text": [
      "F:\\Anaconda3\\envs\\FDH\\lib\\site-packages\\sklearn\\linear_model\\_logistic.py:460: ConvergenceWarning: lbfgs failed to converge (status=1):\n",
      "STOP: TOTAL NO. of ITERATIONS REACHED LIMIT.\n",
      "\n",
      "Increase the number of iterations (max_iter) or scale the data as shown in:\n",
      "    https://scikit-learn.org/stable/modules/preprocessing.html\n",
      "Please also refer to the documentation for alternative solver options:\n",
      "    https://scikit-learn.org/stable/modules/linear_model.html#logistic-regression\n",
      "  n_iter_i = _check_optimize_result(\n"
     ]
    }
   ],
   "source": [
    "# 1.3.2\n",
    "from sklearn.linear_model import LogisticRegression\n",
    "from sklearn.model_selection import train_test_split\n",
    "from sklearn.metrics import classification_report, accuracy_score\n",
    "\n",
    "# 假设 'features' 是前面创建的特征DataFrame\n",
    "# 假设 'labels' 是前面创建的标签DataFrame，包含 'Binary_Crisis' 列\n",
    "\n",
    "# 分离特征和标签\n",
    "X = features  # 特征\n",
    "y = labels['Binary_Crisis']  # 二分类标签\n",
    "\n",
    "# 划分训练集和测试集\n",
    "X_train, X_test, y_train, y_test = train_test_split(X, y, test_size=0.2, random_state=42)\n",
    "\n",
    "# 创建逻辑回归模型\n",
    "logistic_model = LogisticRegression()\n",
    "\n",
    "# 训练模型\n",
    "logistic_model.fit(X_train, y_train)\n",
    "\n",
    "# 预测测试集\n",
    "y_pred = logistic_model.predict(X_test)\n",
    "\n",
    "# 计算准确率\n",
    "accuracy = accuracy_score(y_test, y_pred)\n",
    "\n",
    "# 打印分类报告\n",
    "classification_rep = classification_report(y_test, y_pred)\n",
    "\n",
    "print(\"Accuracy:\", accuracy)\n",
    "print(\"Classification Report:\")\n",
    "print(classification_rep)"
   ]
  },
  {
   "cell_type": "code",
   "execution_count": 142,
   "id": "d1538734-7711-4517-b2a9-d1780fa3712d",
   "metadata": {},
   "outputs": [
    {
     "name": "stdout",
     "output_type": "stream",
     "text": [
      "Random Forest Accuracy: 0.5\n",
      "Random Forest Classification Report:\n",
      "              precision    recall  f1-score   support\n",
      "\n",
      "         0.0       0.60      0.75      0.67         4\n",
      "         1.0       0.00      0.00      0.00         2\n",
      "\n",
      "    accuracy                           0.50         6\n",
      "   macro avg       0.30      0.38      0.33         6\n",
      "weighted avg       0.40      0.50      0.44         6\n",
      "\n",
      "SVM Accuracy: 0.6666666666666666\n",
      "SVM Classification Report:\n",
      "              precision    recall  f1-score   support\n",
      "\n",
      "         0.0       0.67      1.00      0.80         4\n",
      "         1.0       0.00      0.00      0.00         2\n",
      "\n",
      "    accuracy                           0.67         6\n",
      "   macro avg       0.33      0.50      0.40         6\n",
      "weighted avg       0.44      0.67      0.53         6\n",
      "\n",
      "KNN Accuracy: 0.5\n",
      "KNN Classification Report:\n",
      "              precision    recall  f1-score   support\n",
      "\n",
      "         0.0       0.60      0.75      0.67         4\n",
      "         1.0       0.00      0.00      0.00         2\n",
      "\n",
      "    accuracy                           0.50         6\n",
      "   macro avg       0.30      0.38      0.33         6\n",
      "weighted avg       0.40      0.50      0.44         6\n",
      "\n"
     ]
    },
    {
     "name": "stderr",
     "output_type": "stream",
     "text": [
      "F:\\Anaconda3\\envs\\FDH\\lib\\site-packages\\sklearn\\metrics\\_classification.py:1471: UndefinedMetricWarning: Precision and F-score are ill-defined and being set to 0.0 in labels with no predicted samples. Use `zero_division` parameter to control this behavior.\n",
      "  _warn_prf(average, modifier, msg_start, len(result))\n",
      "F:\\Anaconda3\\envs\\FDH\\lib\\site-packages\\sklearn\\metrics\\_classification.py:1471: UndefinedMetricWarning: Precision and F-score are ill-defined and being set to 0.0 in labels with no predicted samples. Use `zero_division` parameter to control this behavior.\n",
      "  _warn_prf(average, modifier, msg_start, len(result))\n",
      "F:\\Anaconda3\\envs\\FDH\\lib\\site-packages\\sklearn\\metrics\\_classification.py:1471: UndefinedMetricWarning: Precision and F-score are ill-defined and being set to 0.0 in labels with no predicted samples. Use `zero_division` parameter to control this behavior.\n",
      "  _warn_prf(average, modifier, msg_start, len(result))\n"
     ]
    }
   ],
   "source": [
    "from sklearn.ensemble import RandomForestClassifier\n",
    "from sklearn.svm import SVC\n",
    "from sklearn.neighbors import KNeighborsClassifier\n",
    "from sklearn.metrics import classification_report, accuracy_score\n",
    "\n",
    "# 划分训练集和测试集\n",
    "X_train, X_test, y_train, y_test = train_test_split(X, y, test_size=0.2, random_state=42)\n",
    "\n",
    "# 创建随机森林模型\n",
    "rf_model = RandomForestClassifier(random_state=42)\n",
    "\n",
    "# 创建支持向量机模型\n",
    "svm_model = SVC(random_state=42)\n",
    "\n",
    "# 创建K最近邻模型\n",
    "knn_model = KNeighborsClassifier()\n",
    "\n",
    "# 训练随机森林模型\n",
    "rf_model.fit(X_train, y_train)\n",
    "\n",
    "# 训练支持向量机模型\n",
    "svm_model.fit(X_train, y_train)\n",
    "\n",
    "# 训练K最近邻模型\n",
    "knn_model.fit(X_train, y_train)\n",
    "\n",
    "# 预测测试集\n",
    "y_pred_rf = rf_model.predict(X_test)\n",
    "y_pred_svm = svm_model.predict(X_test)\n",
    "y_pred_knn = knn_model.predict(X_test)\n",
    "\n",
    "# 计算模型准确率\n",
    "accuracy_rf = accuracy_score(y_test, y_pred_rf)\n",
    "accuracy_svm = accuracy_score(y_test, y_pred_svm)\n",
    "accuracy_knn = accuracy_score(y_test, y_pred_knn)\n",
    "\n",
    "# 打印分类报告\n",
    "classification_rep_rf = classification_report(y_test, y_pred_rf)\n",
    "classification_rep_svm = classification_report(y_test, y_pred_svm)\n",
    "classification_rep_knn = classification_report(y_test, y_pred_knn)\n",
    "\n",
    "# 输出准确率和分类报告\n",
    "print(\"Random Forest Accuracy:\", accuracy_rf)\n",
    "print(\"Random Forest Classification Report:\")\n",
    "print(classification_rep_rf)\n",
    "\n",
    "print(\"SVM Accuracy:\", accuracy_svm)\n",
    "print(\"SVM Classification Report:\")\n",
    "print(classification_rep_svm)\n",
    "\n",
    "print(\"KNN Accuracy:\", accuracy_knn)\n",
    "print(\"KNN Classification Report:\")\n",
    "print(classification_rep_knn)"
   ]
  },
  {
   "cell_type": "code",
   "execution_count": 144,
   "id": "d8f4a96c",
   "metadata": {},
   "outputs": [
    {
     "name": "stdout",
     "output_type": "stream",
     "text": [
      "Mean Squared Error: 76.00055462673099\n",
      "R^2 Score: -5.9796427718426415\n"
     ]
    }
   ],
   "source": [
    "from sklearn.linear_model import LinearRegression\n",
    "from sklearn.metrics import mean_squared_error, r2_score\n",
    "# 分离特征和标签\n",
    "X = features  # 特征\n",
    "y = labels['Severity']  # 连续变量标签\n",
    "\n",
    "# 划分训练集和测试集\n",
    "X_train, X_test, y_train, y_test = train_test_split(X, y, test_size=0.2, random_state=42)\n",
    "\n",
    "# 创建线性回归模型\n",
    "linear_model = LinearRegression()\n",
    "\n",
    "# 训练模型\n",
    "linear_model.fit(X_train, y_train)\n",
    "\n",
    "# 预测测试集\n",
    "y_pred = linear_model.predict(X_test)\n",
    "\n",
    "# 计算模型的性能指标\n",
    "mse = mean_squared_error(y_test, y_pred)\n",
    "r2 = r2_score(y_test, y_pred)\n",
    "\n",
    "print(\"Mean Squared Error:\", mse)\n",
    "print(\"R^2 Score:\", r2)"
   ]
  },
  {
   "cell_type": "code",
   "execution_count": null,
   "id": "7aa1cacb-323f-4d41-b04c-4052616daa93",
   "metadata": {},
   "outputs": [],
   "source": []
  },
  {
   "cell_type": "code",
   "execution_count": 145,
   "id": "a728a14f-cbe8-4b06-9d9d-cae9545acdac",
   "metadata": {},
   "outputs": [
    {
     "data": {
      "image/png": "[encoded data removed]",
      "text/plain": [
       "<Figure size 1000x600 with 1 Axes>"
      ]
     },
     "metadata": {},
     "output_type": "display_data"
    },
    {
     "name": "stdout",
     "output_type": "stream",
     "text": [
      "CPU times: total: 203 ms\n",
      "Wall time: 212 ms\n"
     ]
    }
   ],
   "source": [
    "%%time\n",
    "import matplotlib.pyplot as plt\n",
    "# linear_labels 和 predictions 分别是真实标签和预测结果，确保 linear_labels 和 predictions 的长度相同\n",
    "predictions = linear_model.predict(X)\n",
    "linear_labels = y\n",
    "\n",
    "# 使用 Matplotlib 绘制折线图\n",
    "years = range(1986, 2012)  # 确保年份范围正确\n",
    "plt.figure(figsize=(10, 6))\n",
    "\n",
    "# 绘制真实严重性\n",
    "plt.plot(years, linear_labels, label='True Severity', marker='o', linestyle='-')\n",
    "\n",
    "# 绘制预测严重性\n",
    "plt.plot(years, predictions, label='Predicted Severity', marker='x', linestyle='-')\n",
    "\n",
    "plt.xlabel('Year')\n",
    "plt.ylabel('Severity')\n",
    "plt.title('True vs Predicted Crisis Severity')\n",
    "plt.legend()\n",
    "plt.grid(True)\n",
    "plt.tight_layout()\n",
    "plt.show()"
   ]
  },
  {
   "cell_type": "code",
   "execution_count": 147,
   "id": "b5036721",
   "metadata": {},
   "outputs": [
    {
     "name": "stdout",
     "output_type": "stream",
     "text": [
      "  Country Name Country Code Indicator Name  Indicator Code          1960  \\\n",
      "0           美国          USA      GDP（现价美元）  NY.GDP.MKTP.CD  543300000000   \n",
      "\n",
      "           1961          1962          1963          1964          1965  ...  \\\n",
      "0  563300000000  605100000000  638600000000  685800000000  743700000000  ...   \n",
      "\n",
      "             2013            2014            2015            2016  \\\n",
      "0  16843190993000  17550680174000  18206020741000  18695110842000   \n",
      "\n",
      "             2017            2018            2019            2020  \\\n",
      "0  19477336549000  20533057312000  21380976119000  21060473613000   \n",
      "\n",
      "             2021            2022  \n",
      "0  23315080560000  25462700000000  \n",
      "\n",
      "[1 rows x 67 columns]\n"
     ]
    }
   ],
   "source": [
    "import pandas as pd\n",
    "\n",
    "# 读取Excel文件\n",
    "gdp_data = pd.read_excel('./美国GDP.xlsx')\n",
    "\n",
    "# 显示前几行数据\n",
    "print(gdp_data.head())"
   ]
  },
  {
   "cell_type": "code",
   "execution_count": 148,
   "id": "314af390-0da5-46e0-a61a-16391a3253f4",
   "metadata": {},
   "outputs": [
    {
     "name": "stdout",
     "output_type": "stream",
     "text": [
      "  Country Name Country Code Indicator Name  Indicator Code  Year           GDP\n",
      "0           美国          USA      GDP（现价美元）  NY.GDP.MKTP.CD  1960  5.433000e+11\n",
      "1           美国          USA      GDP（现价美元）  NY.GDP.MKTP.CD  1961  5.633000e+11\n",
      "2           美国          USA      GDP（现价美元）  NY.GDP.MKTP.CD  1962  6.051000e+11\n",
      "3           美国          USA      GDP（现价美元）  NY.GDP.MKTP.CD  1963  6.386000e+11\n",
      "4           美国          USA      GDP（现价美元）  NY.GDP.MKTP.CD  1964  6.858000e+11\n"
     ]
    }
   ],
   "source": [
    "# 转换数据，使每一行代表一个年份，每一列代表GDP\n",
    "gdp_data = gdp_data.melt(id_vars=['Country Name', 'Country Code', 'Indicator Name', 'Indicator Code'], \n",
    "                          var_name='Year', \n",
    "                          value_name='GDP')\n",
    "\n",
    "# 转换年份列为整数类型\n",
    "gdp_data['Year'] = gdp_data['Year'].astype(int)\n",
    "\n",
    "# 确保GDP列是浮点数类型\n",
    "gdp_data['GDP'] = gdp_data['GDP'].astype(float)\n",
    "\n",
    "# 现在DataFrame是按年份排列的，可以进行进一步的分析\n",
    "print(gdp_data.head())"
   ]
  },
  {
   "cell_type": "code",
   "execution_count": 158,
   "id": "edcbdced-af32-453f-9b80-6d947d29cea7",
   "metadata": {},
   "outputs": [
    {
     "name": "stdout",
     "output_type": "stream",
     "text": [
      "   Severity  Binary_Crisis  Prediction_Year  Year           GDP  GDP_Growth\n",
      "0       1.0            1.0             1986  1986  4.579631e+12    0.055463\n",
      "1       0.0            0.0             1987  1987  4.855215e+12    0.060176\n",
      "2       0.0            0.0             1988  1988  5.236438e+12    0.078518\n",
      "3       0.0            0.0             1989  1989  5.641580e+12    0.077370\n",
      "4      12.0            1.0             1990  1990  5.963144e+12    0.056999\n"
     ]
    }
   ],
   "source": [
    "# 假设 labels_df 是您之前创建的包含原始标签和预测年份的DataFrame\n",
    "# 假设 gdp_data 是您的GDP数据DataFrame，包含年份和GDP值\n",
    "\n",
    "# 计算GDP增长率，定义增长率为 (当前年份GDP - 前一年份GDP) / 前一年份GDP\n",
    "gdp_data['GDP_Growth'] = gdp_data['GDP'].pct_change()\n",
    "# 首先，确保两个DataFrame中年份列的数据类型一致\n",
    "labels['Prediction_Year'] = labels['Prediction_Year'].astype(int)\n",
    "gdp_data['Year'] = gdp_data['Year'].astype(int)\n",
    "\n",
    "# 使用merge函数将GDP数据合并到标签DataFrame中\n",
    "# 我们在这里假设您想要保留所有的标签行，即使某些年份在GDP数据中没有对应的条目\n",
    "# 因此，我们使用了左连接（left join）\n",
    "labels_with_gdp = labels.merge(gdp_data[['Year', 'GDP','GDP_Growth']], left_on='Prediction_Year', right_on='Year', how='left')\n",
    "\n",
    "# 如果您不想保留GDP数据中没有的年份，可以使用内连接（inner join）\n",
    "# labels_with_gdp = labels_df.merge(gdp_data[['Year', 'GDP']], left_on='Prediction_Year', right_on='Year', how='inner')\n",
    "\n",
    "# 检查合并结果\n",
    "print(labels_with_gdp.head())"
   ]
  },
  {
   "cell_type": "code",
   "execution_count": 167,
   "id": "03336ecb-9a62-4786-9a13-95f3f2db7765",
   "metadata": {},
   "outputs": [
    {
     "name": "stdout",
     "output_type": "stream",
     "text": [
      "26\n",
      "26\n",
      "26\n"
     ]
    },
    {
     "data": {
      "text/plain": [
       "count    26.000000\n",
       "mean      0.050638\n",
       "std       0.020193\n",
       "min      -0.019756\n",
       "25%       0.041492\n",
       "50%       0.056650\n",
       "75%       0.062498\n",
       "max       0.078518\n",
       "Name: GDP_Growth, dtype: float64"
      ]
     },
     "execution_count": 167,
     "metadata": {},
     "output_type": "execute_result"
    }
   ],
   "source": [
    "# 分离特征和标签\n",
    "X = features\n",
    "y_gdp = labels_with_gdp['GDP']  # GDP的实际值\n",
    "y_gdp_growth = labels_with_gdp['GDP_Growth']  # GDP的增长率\n",
    "print(len(X))\n",
    "print(len(y_gdp))\n",
    "print(len(y_gdp_growth))\n",
    "y_gdp_growth.describe()"
   ]
  },
  {
   "cell_type": "code",
   "execution_count": 175,
   "id": "8c490387-dd98-4e5b-ac9c-84326e38bfc7",
   "metadata": {},
   "outputs": [
    {
     "name": "stdout",
     "output_type": "stream",
     "text": [
      "GDP Model MSE: 1.4089147207357512e+24\n",
      "GDP Model R^2: 0.8695706316234093\n",
      "Growth Model MSE: 3.3153355025310933\n",
      "Growth Model R^2: -1.6464666630898082\n"
     ]
    }
   ],
   "source": [
    "# 划分训练集和测试集\n",
    "X_train_gdp, X_test_gdp, y_train_gdp, y_test_gdp = train_test_split(X, y_gdp, test_size=0.2, random_state=42)\n",
    "\n",
    "X_train_growth, X_test_growth, y_train_growth, y_test_growth = train_test_split(X, y_gdp_growth*100, test_size=0.2, random_state=42)\n",
    "\n",
    "# 创建线性回归模型\n",
    "linear_model_gdp = LinearRegression()\n",
    "linear_model_growth = LinearRegression()\n",
    "\n",
    "# 训练GDP实际值的模型\n",
    "linear_model_gdp.fit(X_train_gdp, y_train_gdp)\n",
    "# 训练GDP增长率的模型\n",
    "linear_model_growth.fit(X_train_growth, y_train_growth)\n",
    "\n",
    "# 预测测试集\n",
    "y_pred_gdp = linear_model_gdp.predict(X_test_gdp)\n",
    "y_pred_growth = linear_model_growth.predict(X_test_growth)\n",
    "\n",
    "# 计算模型的性能指标\n",
    "mse_gdp = mean_squared_error(y_test_gdp, y_pred_gdp)\n",
    "r2_gdp = r2_score(y_test_gdp, y_pred_gdp)\n",
    "\n",
    "mse_growth = mean_squared_error(y_test_growth, y_pred_growth)\n",
    "r2_growth = r2_score(y_test_growth, y_pred_growth)\n",
    "\n",
    "# 输出模型性能\n",
    "print(\"GDP Model MSE:\", mse_gdp)\n",
    "print(\"GDP Model R^2:\", r2_gdp)\n",
    "\n",
    "print(\"Growth Model MSE:\", mse_growth)\n",
    "print(\"Growth Model R^2:\", r2_growth)"
   ]
  },
  {
   "cell_type": "code",
   "execution_count": 176,
   "id": "694ab91d-dcc2-4a58-934a-dc070b9c191e",
   "metadata": {},
   "outputs": [
    {
     "data": {
      "image/png": "[encoded data removed]",
      "text/plain": [
       "<Figure size 1000x600 with 1 Axes>"
      ]
     },
     "metadata": {},
     "output_type": "display_data"
    }
   ],
   "source": [
    "# linear_labels 和 predictions 分别是真实标签和预测结果，确保 linear_labels 和 predictions 的长度相同\n",
    "predictions_gdp = linear_model_gdp.predict(X)\n",
    "linear_labels = y_gdp\n",
    "\n",
    "# 使用 Matplotlib 绘制折线图\n",
    "years = range(1986, 2012)  # 确保年份范围正确\n",
    "plt.figure(figsize=(10, 6))\n",
    "\n",
    "# 绘制真实严重性\n",
    "plt.plot(years, linear_labels, label='True gdp', marker='o', linestyle='-')\n",
    "\n",
    "# 绘制预测严重性\n",
    "plt.plot(years, predictions, label='Predicted gdp', marker='x', linestyle='-')\n",
    "\n",
    "plt.xlabel('Year')\n",
    "plt.ylabel('gdp')\n",
    "plt.title('True vs Predicted gdp')\n",
    "plt.legend()\n",
    "plt.grid(True)\n",
    "plt.tight_layout()\n",
    "plt.show()"
   ]
  },
  {
   "cell_type": "code",
   "execution_count": 177,
   "id": "157a631a-6303-4b85-b93d-9db8d17cd391",
   "metadata": {},
   "outputs": [
    {
     "data": {
      "image/png": "[encoded data removed]",
      "text/plain": [
       "<Figure size 1000x600 with 1 Axes>"
      ]
     },
     "metadata": {},
     "output_type": "display_data"
    }
   ],
   "source": [
    "# linear_labels 和 predictions 分别是真实标签和预测结果，确保 linear_labels 和 predictions 的长度相同\n",
    "predictions_gdp = linear_model_gdp.predict(X)\n",
    "linear_labels = y_gdp_growth\n",
    "\n",
    "# 使用 Matplotlib 绘制折线图\n",
    "years = range(1986, 2012)  # 确保年份范围正确\n",
    "plt.figure(figsize=(10, 6))\n",
    "\n",
    "# 绘制真实严重性\n",
    "plt.plot(years, linear_labels, label='True gdp_growth', marker='o', linestyle='-')\n",
    "\n",
    "# 绘制预测严重性\n",
    "plt.plot(years, predictions, label='Predicted gdp_growth', marker='x', linestyle='-')\n",
    "\n",
    "plt.xlabel('Year')\n",
    "plt.ylabel('gdp_growth')\n",
    "plt.title('True vs Predicted gdp_growth')\n",
    "plt.legend()\n",
    "plt.grid(True)\n",
    "plt.tight_layout()\n",
    "plt.show()"
   ]
  },
  {
   "cell_type": "code",
   "execution_count": 174,
   "id": "870a3be2-6978-436d-938f-89cdc6425c76",
   "metadata": {},
   "outputs": [
    {
     "name": "stdout",
     "output_type": "stream",
     "text": [
      "Normalized GDP Model MSE: 1.4089147207358672e+24\n",
      "Normalized GDP Model R^2: 0.8695706316233986\n"
     ]
    }
   ],
   "source": [
    "# 对GDP数据进行归一化再预测\n",
    "from sklearn.preprocessing import MinMaxScaler\n",
    "from sklearn.linear_model import LinearRegression\n",
    "\n",
    "# 初始化MinMaxScaler，使其范围在[0, 1]\n",
    "scaler = MinMaxScaler(feature_range=(0, 1))\n",
    "\n",
    "# 使用归一化的GDP值作为标签\n",
    "y_gdp_normalized = scaler.fit_transform(y_gdp.values.reshape(-1, 1)).flatten()\n",
    "\n",
    "# 划分归一化后的训练集和测试集\n",
    "X_train_gdp_norm, X_test_gdp_norm, y_train_gdp_norm, y_test_gdp_norm = train_test_split(\n",
    "    X, y_gdp_normalized, test_size=0.2, random_state=42\n",
    ")\n",
    "\n",
    "# 创建线性回归模型\n",
    "linear_model_gdp_norm = LinearRegression()\n",
    "\n",
    "# 训练归一化GDP值的模型\n",
    "linear_model_gdp_norm.fit(X_train_gdp_norm, y_train_gdp_norm)\n",
    "\n",
    "# 预测测试集\n",
    "y_pred_gdp_norm = linear_model_gdp_norm.predict(X_test_gdp_norm)\n",
    "\n",
    "# 反归一化预测值以便比较\n",
    "y_pred_gdp = scaler.inverse_transform(y_pred_gdp_norm.reshape(-1, 1)).flatten()\n",
    "\n",
    "# 计算反归一化后的预测值的性能指标\n",
    "mse_gdp = mean_squared_error(y_test_gdp, y_pred_gdp)\n",
    "r2_gdp = r2_score(y_test_gdp, y_pred_gdp)\n",
    "\n",
    "print(\"Normalized GDP Model MSE:\", mse_gdp)\n",
    "print(\"Normalized GDP Model R^2:\", r2_gdp)"
   ]
  },
  {
   "cell_type": "code",
   "execution_count": null,
   "id": "b1b6e216-10f2-4887-a62b-b83f9a40401a",
   "metadata": {},
   "outputs": [],
   "source": []
  }
 ],
 "metadata": {
  "kernelspec": {
   "display_name": "Python 3 (ipykernel)",
   "language": "python",
   "name": "python3"
  },
  "language_info": {
   "codemirror_mode": {
    "name": "ipython",
    "version": 3
   },
   "file_extension": ".py",
   "mimetype": "text/x-python",
   "name": "python",
   "nbconvert_exporter": "python",
   "pygments_lexer": "ipython3",
   "version": "3.10.13"
  }
 },
 "nbformat": 4,
 "nbformat_minor": 5
}
